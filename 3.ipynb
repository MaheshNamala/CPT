{
 "cells": [
  {
   "cell_type": "code",
   "execution_count": 40,
   "id": "7d21760e",
   "metadata": {},
   "outputs": [
    {
     "name": "stdout",
     "output_type": "stream",
     "text": [
      "fhbvdfhbevih,var=  10\n"
     ]
    }
   ],
   "source": [
    "class a():\n",
    "    def __init__(self,var):\n",
    "        self.__var=var\n",
    "    def __dis(self):\n",
    "        print(\"fhbvdfhbevih,var= \",self.__var)\n",
    "obj=a(10)\n",
    "obj._a__dis()"
   ]
  },
  {
   "cell_type": "code",
   "execution_count": 41,
   "id": "a74935ee",
   "metadata": {},
   "outputs": [
    {
     "name": "stdout",
     "output_type": "stream",
     "text": [
      "var is: 15\n"
     ]
    }
   ],
   "source": [
    "class a:\n",
    "    def __init__(self,var):\n",
    "        self.var=var\n",
    "    def display(self):\n",
    "        print(\"var is:\",self.var)\n",
    "    def ad(self):\n",
    "        self.var+=5\n",
    "        self.display()\n",
    "o=a(10)\n",
    "o.ad()\n"
   ]
  },
  {
   "cell_type": "code",
   "execution_count": 42,
   "id": "198961f0",
   "metadata": {},
   "outputs": [
    {
     "name": "stdout",
     "output_type": "stream",
     "text": [
      "The value is: 10\n",
      "The value is: 1000\n"
     ]
    }
   ],
   "source": [
    "class a:\n",
    "    def __init__(self,v):\n",
    "        self.v=v\n",
    "    def ds(self):\n",
    "        print(\"The value is:\",self.v)\n",
    "    def modi(self):\n",
    "        self.v=aa(self.v)\n",
    "def aa(x):\n",
    "    return x**3\n",
    "o=a(10)\n",
    "o.ds()\n",
    "o.modi()\n",
    "o.ds()"
   ]
  },
  {
   "cell_type": "code",
   "execution_count": 43,
   "id": "84e9e9eb",
   "metadata": {},
   "outputs": [
    {
     "name": "stdout",
     "output_type": "stream",
     "text": [
      "The value is: 10\n",
      "True\n",
      "55\n",
      "65\n",
      "None\n"
     ]
    }
   ],
   "source": [
    "class a:\n",
    "    def __init__(self,v):\n",
    "        self.v=v\n",
    "    def ds(self):\n",
    "        print(\"The value is:\",self.v)\n",
    "o=a(10)\n",
    "o.ds()\n",
    "print(hasattr(o,'v'))\n",
    "setattr(o,'v',55)\n",
    "print(getattr(o,'v'))\n",
    "setattr(o,'k',65)\n",
    "print(o.k)\n",
    "print(delattr(o,'k'))\n",
    "#print(o.k)"
   ]
  },
  {
   "cell_type": "markdown",
   "id": "dd8d9ceb",
   "metadata": {},
   "source": [
    "Built-in class attr\n",
    ".__doc__--- when string doc is not specified it don't return attributes\n",
    ".__dict__ namespace accessed attributes\n",
    ".__name__ returns class attr's name\n",
    ".__module__\n",
    ".__bases__ used in inheritence"
   ]
  },
  {
   "cell_type": "code",
   "execution_count": 44,
   "id": "c0459fc4",
   "metadata": {},
   "outputs": [
    {
     "name": "stdout",
     "output_type": "stream",
     "text": [
      "10\n",
      "12.123\n",
      "None\n",
      "{'v1': 10, 'v2': 12.123}\n",
      "a\n",
      "__main__\n",
      "(<class 'object'>,)\n"
     ]
    }
   ],
   "source": [
    "class a:\n",
    "    def __init__(self,v1,v2):\n",
    "        self.v1=v1\n",
    "        self.v2=v2\n",
    "    def ds(self):\n",
    "        print(self.v1)\n",
    "        print(self.v2)\n",
    "o=a(10,12.123)\n",
    "o.ds()\n",
    "print(o.__doc__)\n",
    "print(o.__dict__)\n",
    "print(a.__name__)\n",
    "print(o.__module__)\n",
    "print(a.__bases__)"
   ]
  },
  {
   "cell_type": "markdown",
   "id": "56766842",
   "metadata": {},
   "source": [
    "Garbage values give us a hint to access the data in particular address"
   ]
  },
  {
   "cell_type": "code",
   "execution_count": 47,
   "id": "4f9b95fd",
   "metadata": {},
   "outputs": [
    {
     "name": "stdout",
     "output_type": "stream",
     "text": [
      "vijay got [45, 65, 89]\n",
      "ajay got [87, 89, 97]\n"
     ]
    }
   ],
   "source": [
    "class student:\n",
    "    def __init__(self,name):\n",
    "         self.name=name\n",
    "         self.l=[]\n",
    "    def m(self):\n",
    "        for i in range(3):\n",
    "            k=int(input(\"enter:\"))\n",
    "            self.l.append(k)\n",
    "    def ds(self):\n",
    "        print(f\"{self.name} got {self.l}\")\n",
    "o=student(\"vijay\")\n",
    "o.m()\n",
    "o1=student(\"ajay\")\n",
    "o1.m()\n",
    "o.ds()\n",
    "o1.ds()"
   ]
  },
  {
   "cell_type": "code",
   "execution_count": 50,
   "id": "b3c1634a",
   "metadata": {},
   "outputs": [
    {
     "name": "stdout",
     "output_type": "stream",
     "text": [
      "area of circle: 176.7144375\n",
      "circumference is: 47.12385\n"
     ]
    }
   ],
   "source": [
    "class circle:\n",
    "    pi=3.14159\n",
    "    def __init__(self,r):\n",
    "        self.r=r\n",
    "    def area(self):\n",
    "        return circle.pi*self.r**2\n",
    "    def cir(self):\n",
    "        return 2*circle.pi*self.r\n",
    "a=circle(7.5)\n",
    "print(\"area of circle:\",a.area())\n",
    "print(\"circumference is:\",a.cir())"
   ]
  }
 ],
 "metadata": {
  "kernelspec": {
   "display_name": "base",
   "language": "python",
   "name": "python3"
  },
  "language_info": {
   "codemirror_mode": {
    "name": "ipython",
    "version": 3
   },
   "file_extension": ".py",
   "mimetype": "text/x-python",
   "name": "python",
   "nbconvert_exporter": "python",
   "pygments_lexer": "ipython3",
   "version": "3.12.7"
  }
 },
 "nbformat": 4,
 "nbformat_minor": 5
}
