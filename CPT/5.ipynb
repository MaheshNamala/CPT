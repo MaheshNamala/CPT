{
 "cells": [
  {
   "cell_type": "code",
   "execution_count": 21,
   "id": "e92c494e",
   "metadata": {},
   "outputs": [
    {
     "name": "stdout",
     "output_type": "stream",
     "text": [
      "hello mahesh\n",
      "hello jon\n"
     ]
    }
   ],
   "source": [
    "#overloading\n",
    "def hi(name=\"mahesh\"):\n",
    "    print(\"hello\",name)\n",
    "hi()\n",
    "hi(\"jon\")"
   ]
  },
  {
   "cell_type": "code",
   "execution_count": 22,
   "id": "99abe6de",
   "metadata": {},
   "outputs": [
    {
     "name": "stdout",
     "output_type": "stream",
     "text": [
      "No data\n",
      "Name:mahesh\n",
      "Name:jay and Age:20\n"
     ]
    },
    {
     "data": {
      "text/plain": [
       "<__main__.student at 0x2b84b127f20>"
      ]
     },
     "execution_count": 22,
     "metadata": {},
     "output_type": "execute_result"
    }
   ],
   "source": [
    "#multiple args of overloading\n",
    "# def s(*a):\n",
    "#     return sum(a)\n",
    "# s(1,2,3,4,5)\n",
    "\n",
    "#SIMPLE OVERLOADING USING CLASS CONSTRUCTOR\n",
    "class student:\n",
    "    def __init__(self,name=None,age=None):\n",
    "        if name and age:\n",
    "            print(f\"Name:{name} and Age:{age}\")\n",
    "        elif name:\n",
    "            print(f\"Name:{name}\")\n",
    "        else:\n",
    "            print(\"No data\")\n",
    "student()\n",
    "student(\"mahesh\")\n",
    "student(\"jay\",20)"
   ]
  },
  {
   "cell_type": "markdown",
   "id": "02236ee5",
   "metadata": {},
   "source": [
    "--> isinstance() : checks a object from a class or not\n"
   ]
  },
  {
   "cell_type": "code",
   "execution_count": 31,
   "id": "85837736",
   "metadata": {},
   "outputs": [
    {
     "name": "stdout",
     "output_type": "stream",
     "text": [
      "4+6i\n"
     ]
    }
   ],
   "source": [
    "#operator overloading\n",
    "class val:\n",
    "    def __init__(self,x,y):\n",
    "        self.x=x\n",
    "        self.y=y\n",
    "    def __add__(self,ol):\n",
    "         return val(self.x+ol.x,self.y+ol.y)\n",
    "    def __str__(self):\n",
    "        return f\"{self.x}+{self.y}i\"\n",
    "a=val(1,2)\n",
    "b=val(3,4)\n",
    "print(a+b)"
   ]
  },
  {
   "cell_type": "code",
   "execution_count": 24,
   "id": "a2675ee2",
   "metadata": {},
   "outputs": [
    {
     "name": "stdout",
     "output_type": "stream",
     "text": [
      "1 3 2 4\n",
      "4 4 6 7\n",
      "0+-1i\n"
     ]
    }
   ],
   "source": [
    "class complex:\n",
    "    def __init__(self,r,i):\n",
    "        self.r=r\n",
    "        self.i=i\n",
    "    def __add__(self,o):\n",
    "        if isinstance(o,complex):\n",
    "            print(self.r,o.r,self.i,o.i)\n",
    "            return complex(self.r+o.r,self.i+o.i)\n",
    "        else:\n",
    "            raise TypeError(\"Unsupported operand-type\")\n",
    "    def __sub__(self,ol):\n",
    "        print(self.r,ol.r,self.i,ol.i)\n",
    "        return complex(self.r-ol.r,self.i-ol.i)\n",
    "    def __str__(self):\n",
    "        return f\"{self.r}+{self.i}i\"\n",
    "a=complex(1,2)\n",
    "b=complex(3,4)\n",
    "c=complex(4,7)\n",
    "print(a+b-c)\n",
    "\n",
    "    "
   ]
  },
  {
   "cell_type": "code",
   "execution_count": null,
   "id": "a7c7e1e7",
   "metadata": {},
   "outputs": [
    {
     "name": "stdout",
     "output_type": "stream",
     "text": [
      "Animal Sound\n",
      "the pet barks!\n"
     ]
    }
   ],
   "source": [
    "#how to access super class from sub class\n",
    "class pet:\n",
    "    def sound(self):\n",
    "        print(\"Animal Sound\")\n",
    "class dog(pet):\n",
    "    def sound(self):\n",
    "        super().sound() # calling parent class method\n",
    "        print(\"the pet barks!\")\n",
    "a=dog()\n",
    "a.sound()\n"
   ]
  },
  {
   "cell_type": "code",
   "execution_count": 26,
   "id": "dbc10890",
   "metadata": {},
   "outputs": [
    {
     "name": "stdout",
     "output_type": "stream",
     "text": [
      "student constructor\n",
      "person constructor\n"
     ]
    }
   ],
   "source": [
    "#constructor overriding\n",
    "class student:\n",
    "    def __init__(self,name):\n",
    "        self.name=name\n",
    "        print(\"student constructor\")\n",
    "class person(student):\n",
    "    def __init__(self,name,grade):\n",
    "        super().__init__(name) #calling parent constructor in child constructor\n",
    "        self.grade=grade\n",
    "        print(\"person constructor\")\n",
    "a=person(\"mahesh\",\"A\")\n"
   ]
  },
  {
   "cell_type": "code",
   "execution_count": 33,
   "id": "ed4b2103",
   "metadata": {},
   "outputs": [
    {
     "name": "stdout",
     "output_type": "stream",
     "text": [
      "4+6i\n"
     ]
    }
   ],
   "source": [
    "class complex:\n",
    "    def __init__(self,r,i):\n",
    "        self.r=r\n",
    "        self.i=i\n",
    "    def __add__(self1,self2):\n",
    "        if isinstance(self1,complex) and isinstance(self2,complex):\n",
    "            #print(self.r,o.r,self.i,o.i)\n",
    "            return complex(self1.r+self2.r,self1.i+self2.i)\n",
    "        else:\n",
    "            raise TypeError(\"Unsupported operand-type\")\n",
    "    def __sub__(self,ol):\n",
    "        print(self.r,ol.r,self.i,ol.i)\n",
    "        return complex(self.r-ol.r,self.i-ol.i)\n",
    "    def __str__(self):\n",
    "        return f\"{self.r}+{self.i}i\"\n",
    "a=complex(1,2)\n",
    "b=complex(3,4)\n",
    "c=complex(4,7)\n",
    "print(a+b)\n",
    "\n",
    "    "
   ]
  },
  {
   "cell_type": "code",
   "execution_count": 38,
   "id": "e1148be6",
   "metadata": {},
   "outputs": [
    {
     "name": "stdout",
     "output_type": "stream",
     "text": [
      "16.0\n",
      "78.5\n"
     ]
    }
   ],
   "source": [
    "class shape:\n",
    "    pi=3.14\n",
    "    def area(self):\n",
    "        ...\n",
    "class circle(shape):\n",
    "    def area(self,r):\n",
    "        print(super().pi*r**2)\n",
    "class square(shape):\n",
    "    def area(self,side):\n",
    "        print(side**2)\n",
    "radius=float(input(\"enter the radius:\"))\n",
    "side=float(input(\"enter the side:\"))\n",
    "sq=square()\n",
    "cr=circle()\n",
    "sq.area(side)\n",
    "cr.area(radius)"
   ]
  },
  {
   "cell_type": "code",
   "execution_count": null,
   "id": "a16e1177",
   "metadata": {},
   "outputs": [],
   "source": []
  }
 ],
 "metadata": {
  "kernelspec": {
   "display_name": "base",
   "language": "python",
   "name": "python3"
  },
  "language_info": {
   "codemirror_mode": {
    "name": "ipython",
    "version": 3
   },
   "file_extension": ".py",
   "mimetype": "text/x-python",
   "name": "python",
   "nbconvert_exporter": "python",
   "pygments_lexer": "ipython3",
   "version": "3.12.7"
  }
 },
 "nbformat": 4,
 "nbformat_minor": 5
}
