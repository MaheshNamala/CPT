{
 "cells": [
  {
   "cell_type": "code",
   "execution_count": 17,
   "id": "43319095",
   "metadata": {},
   "outputs": [
    {
     "name": "stdout",
     "output_type": "stream",
     "text": [
      "10\n",
      "lhfvuehfliwrhfiwhrf\n"
     ]
    }
   ],
   "source": [
    "class a:\n",
    "    v=10\n",
    "    def dis(self):\n",
    "        print(\"lhfvuehfliwrhfiwhrf\")\n",
    "#obj=a()\n",
    "print(a.v)\n",
    "a().dis()"
   ]
  },
  {
   "cell_type": "code",
   "execution_count": 20,
   "id": "81810ed4",
   "metadata": {},
   "outputs": [
    {
     "name": "stdout",
     "output_type": "stream",
     "text": [
      "the value is 2\n"
     ]
    }
   ],
   "source": [
    "class ab:\n",
    "    def __init__(self,v):\n",
    "        self.v=v\n",
    "        print(\"the value is\",v)\n",
    "obj=ab(2)"
   ]
  },
  {
   "cell_type": "code",
   "execution_count": null,
   "id": "b9582f0c",
   "metadata": {},
   "outputs": [
    {
     "name": "stdout",
     "output_type": "stream",
     "text": [
      "object variable: 10\n",
      "class variale 1\n",
      "object variable: 20\n",
      "class variale 2\n",
      "object variable: 30\n",
      "class variale 3\n",
      "Object with 10 is going out of scope\n",
      "2\n",
      "Object with 20 is going out of scope\n",
      "1\n",
      "Object with 30 is going out of scope\n",
      "0\n"
     ]
    }
   ],
   "source": [
    "class abc:\n",
    "    cv=0\n",
    "    def __init__(self,v):\n",
    "        abc.cv+=1\n",
    "        self.v=v     \n",
    "        print(\"object variable:\",v)\n",
    "        print(\"class variale\",abc.cv)\n",
    "    def __del__(self):\n",
    "        abc.cv-=1\n",
    "        print(\"Object with %d is going out of scope\"%self.v)\n",
    "        print(abc.cv)\n",
    "obj1=abc(10)\n",
    "obj2=abc(20)\n",
    "obj3=abc(30)\n",
    "del obj1\n",
    "del obj2\n",
    "del obj3"
   ]
  },
  {
   "cell_type": "markdown",
   "id": "5951e2dc",
   "metadata": {},
   "source": [
    "1.can we access class methods without object\n",
    "2.constructor and self\n",
    "3.more no.of constructors in one class\n",
    "4.what is instance\n",
    "\n",
    "\n",
    "1.  __call__() --> instance can be directly called \n",
    "2.  __lt__(),__le__(),__gt__(),__ge__(),__eq__(),__ne__()\n",
    "3.  __hash__() -->  it decides where te object should be stored in datastructure.\n",
    "4.  __iter__()\n",
    "5.  __getite__(),__setitem__()"
   ]
  },
  {
   "cell_type": "code",
   "execution_count": null,
   "id": "f616db82",
   "metadata": {},
   "outputs": [
    {
     "name": "stdout",
     "output_type": "stream",
     "text": [
      "56 is even\n"
     ]
    }
   ],
   "source": [
    "\n",
    "class number:\n",
    "    even=0\n",
    "    def check(self,num):\n",
    "        if num%2==0:\n",
    "            self.even=1\n",
    "    def eo(self,num):\n",
    "        self.check(num)\n",
    "        if self.even==1:\n",
    "            print(num,\"is even\")\n",
    "        else:\n",
    "            print(num,\"is odd\")\n",
    "a=number()\n",
    "a.eo(56)"
   ]
  },
  {
   "cell_type": "code",
   "execution_count": 42,
   "id": "4de21185",
   "metadata": {},
   "outputs": [
    {
     "name": "stdout",
     "output_type": "stream",
     "text": [
      "even numbers: [32, 22, 54]\n",
      "odd numbers: [21, 7]\n"
     ]
    }
   ],
   "source": [
    "class number:\n",
    "    el=[];ol=[]\n",
    "    def __init__(self,num):\n",
    "        self.num=num\n",
    "        if num%2==0:\n",
    "            number.el.append(num)\n",
    "        else:\n",
    "            number.ol.append(num)\n",
    "a=number(21)\n",
    "a=number(32)\n",
    "a=number(22)\n",
    "a=number(7)\n",
    "a=number(54)\n",
    "print(\"even numbers:\",a.el)\n",
    "print(\"odd numbers:\",a.ol)"
   ]
  },
  {
   "cell_type": "code",
   "execution_count": 54,
   "id": "6d6e3745",
   "metadata": {},
   "outputs": [
    {
     "name": "stdout",
     "output_type": "stream",
     "text": [
      "the value stored in object is : 10\n",
      "the length of name stored in object: 6\n",
      "second value is less than first\n"
     ]
    }
   ],
   "source": [
    "#String comparisions in class\n",
    "class abc:\n",
    "    def __init__(self,name,var):\n",
    "        self.var=var\n",
    "        self.name=name\n",
    "    def __len__(self):\n",
    "        return len(self.name)\n",
    "    def __repr__(self):\n",
    "        return self.var\n",
    "    def __cmp__(self,obj):\n",
    "        return self.var-obj.var\n",
    "obj=abc(\"abcdef\",10)\n",
    "print(\"the value stored in object is :\",obj.__repr__())\n",
    "print(\"the length of name stored in object:\",obj.__len__())\n",
    "obj1=abc(\"hkijl\",1)\n",
    "val=obj.__cmp__(obj1)\n",
    "if val==0:\n",
    "    print(\"Both values are equal\")\n",
    "elif val==-1:\n",
    "    print(\"first value is less than second\")\n",
    "else:\n",
    "    print(\"second value is less than first\")"
   ]
  },
  {
   "cell_type": "code",
   "execution_count": 56,
   "id": "e03ef018",
   "metadata": {},
   "outputs": [
    {
     "name": "stdout",
     "output_type": "stream",
     "text": [
      "<__main__.n object at 0x00000202651AFFE0>\n",
      "[1, 2, 3, 10, 5, 6, 7, 8, 9]\n"
     ]
    }
   ],
   "source": [
    "class n:\n",
    "    def __init__(self,mylist):\n",
    "        self.mylist=mylist\n",
    "    def __getitem__(self,index):\n",
    "        return self.mylist[index]\n",
    "    def __setitem__(self,index,val):\n",
    "        self.mylist[index]=val\n",
    "numlist=n([1,2,3,4,5,6,7,8,9])\n",
    "print(numlist)\n",
    "numlist[3]=10\n",
    "print(numlist.mylist)"
   ]
  }
 ],
 "metadata": {
  "kernelspec": {
   "display_name": "base",
   "language": "python",
   "name": "python3"
  },
  "language_info": {
   "codemirror_mode": {
    "name": "ipython",
    "version": 3
   },
   "file_extension": ".py",
   "mimetype": "text/x-python",
   "name": "python",
   "nbconvert_exporter": "python",
   "pygments_lexer": "ipython3",
   "version": "3.12.7"
  }
 },
 "nbformat": 4,
 "nbformat_minor": 5
}
