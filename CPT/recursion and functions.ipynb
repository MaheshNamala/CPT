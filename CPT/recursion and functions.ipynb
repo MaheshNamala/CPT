{
 "cells": [
  {
   "cell_type": "code",
   "execution_count": 8,
   "metadata": {},
   "outputs": [
    {
     "name": "stdout",
     "output_type": "stream",
     "text": [
      "1\n"
     ]
    }
   ],
   "source": [
    "def hi(*args):\n",
    "    return min(args)\n",
    "print(hi(1,2,3))"
   ]
  },
  {
   "cell_type": "code",
   "execution_count": 9,
   "metadata": {},
   "outputs": [
    {
     "name": "stdout",
     "output_type": "stream",
     "text": [
      "name mahesh\n",
      "age 20\n",
      "height 6.1\n",
      "weight 75\n"
     ]
    }
   ],
   "source": [
    "def info(**m):\n",
    "    for a,b in m.items():\n",
    "        print(a,b)\n",
    "info(name=\"mahesh\",age=20,height=6.1,weight=75)"
   ]
  },
  {
   "cell_type": "code",
   "execution_count": 10,
   "metadata": {},
   "outputs": [
    {
     "name": "stdout",
     "output_type": "stream",
     "text": [
      "16\n",
      "64\n"
     ]
    }
   ],
   "source": [
    "sq=lambda a:a**2\n",
    "cb=lambda a:a**3\n",
    "print(sq(4))\n",
    "print(cb(4))"
   ]
  },
  {
   "cell_type": "code",
   "execution_count": 18,
   "metadata": {},
   "outputs": [
    {
     "name": "stdout",
     "output_type": "stream",
     "text": [
      "1 5 3.0\n"
     ]
    }
   ],
   "source": [
    "def m(*a):\n",
    "    return min(a),max(a),sum(a)/len(a)\n",
    "k=m(1,2,3,4,5)\n",
    "print(*k)"
   ]
  },
  {
   "cell_type": "markdown",
   "metadata": {},
   "source": [
    "Recursion:\n",
    "1.Direct(Factorial)\n",
    "2.Indirect\n",
    "3.Head/Non-tail\n",
    "4.tail\n",
    "5.linear\n",
    "6.Binary\n",
    "7.multiple\n",
    "8.Nested\n",
    "9.mutual\n",
    "10.divide and conqure\n",
    "11.Tree\n",
    "12.Absolute/static"
   ]
  },
  {
   "cell_type": "code",
   "execution_count": 22,
   "metadata": {},
   "outputs": [
    {
     "name": "stdout",
     "output_type": "stream",
     "text": [
      "False\n",
      "True\n"
     ]
    }
   ],
   "source": [
    "\n",
    "#indirect recursion\n",
    "def even(n):\n",
    "    if n==0:\n",
    "        return True\n",
    "    return odd(n-1)\n",
    "def odd(n):\n",
    "    if n==0:\n",
    "        return False\n",
    "    return even(n-1)\n",
    "print(even(5))\n",
    "print(odd(7))"
   ]
  },
  {
   "cell_type": "code",
   "execution_count": 26,
   "metadata": {},
   "outputs": [
    {
     "name": "stdout",
     "output_type": "stream",
     "text": [
      "True\n"
     ]
    }
   ],
   "source": [
    "def palin(s):\n",
    "    if len(s)<=1:\n",
    "        return True\n",
    "    return check_palin(s,0,len(s)-1)\n",
    "\n",
    "def check_palin(s,start,end):\n",
    "    if start>=end:\n",
    "        return True\n",
    "    if s[start]!=s[end]:\n",
    "        return False\n",
    "    return palin(s[start+1:end])\n",
    "print(palin(\"tarat\"))"
   ]
  },
  {
   "cell_type": "code",
   "execution_count": 30,
   "metadata": {},
   "outputs": [
    {
     "name": "stdout",
     "output_type": "stream",
     "text": [
      "24\n"
     ]
    }
   ],
   "source": [
    "#tail recursive\n",
    "def ftail(n,acc=1):\n",
    "    if n==0 or n==1:\n",
    "        return acc\n",
    "    return ftail(n-1,n*acc)\n",
    "print(ftail(4))"
   ]
  },
  {
   "cell_type": "code",
   "execution_count": 31,
   "metadata": {},
   "outputs": [
    {
     "name": "stdout",
     "output_type": "stream",
     "text": [
      "5\n"
     ]
    }
   ],
   "source": [
    "#Nested function\n",
    "def a(m,n):\n",
    "    if m==0:\n",
    "        return n+1\n",
    "    elif m>0 and n==0:\n",
    "        return a(m-1,1)\n",
    "    else:\n",
    "        return a(m-1,a(m,n-1))\n",
    "print(a(2,1))"
   ]
  },
  {
   "cell_type": "code",
   "execution_count": 35,
   "metadata": {},
   "outputs": [
    {
     "name": "stdout",
     "output_type": "stream",
     "text": [
      "34560\n"
     ]
    }
   ],
   "source": [
    "\n",
    "def sfact(n):\n",
    "    if n<=0:\n",
    "        return 1\n",
    "    return fact(n)*sfact(n-1)\n",
    "def fact(n):\n",
    "    if n<=1:\n",
    "        return 1\n",
    "    return n*fact(n-1)\n",
    "print(sfact(5))"
   ]
  }
 ],
 "metadata": {
  "kernelspec": {
   "display_name": "base",
   "language": "python",
   "name": "python3"
  },
  "language_info": {
   "codemirror_mode": {
    "name": "ipython",
    "version": 3
   },
   "file_extension": ".py",
   "mimetype": "text/x-python",
   "name": "python",
   "nbconvert_exporter": "python",
   "pygments_lexer": "ipython3",
   "version": "3.12.7"
  }
 },
 "nbformat": 4,
 "nbformat_minor": 2
}
