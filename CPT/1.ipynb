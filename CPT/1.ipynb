{
 "cells": [
  {
   "cell_type": "markdown",
   "id": "9bd45ded",
   "metadata": {},
   "source": [
    "PANDAS\n",
    "\n",
    "1.Series (1-D Array)\n",
    "2.dataframes(2-D array)/labeling will be on rows and colums\n",
    "\n",
    "OPERATIONS:\n",
    "-->reading/writing of data(csv/json/xls)\n",
    "-->insertion of data\n",
    "-->selecting of data\n",
    "-->data manipulation\n",
    "-->grouping and aggregation\n",
    "-->merging/joining\n",
    "-->sorting\n",
    "\n",
    "\n",
    "\n",
    "fillna(),isna(),dropna()\n",
    "\n",
    "\n",
    "\n",
    "DATAFRAMES:\n",
    "df.head(n)-->first n rows\n",
    "df.tail(n)-->last n rows"
   ]
  },
  {
   "cell_type": "code",
   "execution_count": null,
   "id": "6a8ffb70",
   "metadata": {},
   "outputs": [
    {
     "name": "stdout",
     "output_type": "stream",
     "text": [
      "Enter 3 name seperated with  space:\n",
      "Enter 3 index labels:\n",
      "Created a new series\n",
      "0    mahesh\n",
      "1       fub\n",
      "2     audfu\n",
      "dtype: object\n"
     ]
    }
   ],
   "source": [
    "#series\n",
    "\n",
    "import pandas as pd\n",
    "print(\"Enter 3 name seperated with  space:\")\n",
    "names=input().strip().split()\n",
    "print(\"Enter 3 index labels:\")\n",
    "indices=input().strip().split()\n",
    "try:\n",
    "    if len(names)!=3 or len(indices)!=3:\n",
    "        raise ValueError(\";owjfwp9ojf;ow\")\n",
    "    series=pd.Series(data=names,index=indices)\n",
    "    print(\"Created a new series\")\n",
    "    print(series)\n",
    "except ValueError as e:\n",
    "    print(f\"Error:{e}\")"
   ]
  },
  {
   "cell_type": "code",
   "execution_count": null,
   "id": "a677886f",
   "metadata": {},
   "outputs": [
    {
     "name": "stdout",
     "output_type": "stream",
     "text": [
      "Enter 4 random numbers as space seperated: \n",
      "0     2.0\n",
      "1     4.0\n",
      "2    43.0\n",
      "3    53.0\n",
      "dtype: float64\n",
      "values > 10: \n",
      "2    43.0\n",
      "3    53.0\n",
      "dtype: float64\n"
     ]
    },
    {
     "name": "stdout",
     "output_type": "stream",
     "text": [
      "Enter 4 random numbers as space seperated: \n"
     ]
    },
    {
     "ename": "KeyboardInterrupt",
     "evalue": "Interrupted by user",
     "output_type": "error",
     "traceback": [
      "\u001b[1;31m---------------------------------------------------------------------------\u001b[0m",
      "\u001b[1;31mKeyboardInterrupt\u001b[0m                         Traceback (most recent call last)",
      "Cell \u001b[1;32mIn[9], line 3\u001b[0m\n\u001b[0;32m      1\u001b[0m \u001b[38;5;66;03m# filters\u001b[39;00m\n\u001b[0;32m      2\u001b[0m \u001b[38;5;28mprint\u001b[39m(\u001b[38;5;124m\"\u001b[39m\u001b[38;5;124mEnter 4 random numbers as space seperated: \u001b[39m\u001b[38;5;124m\"\u001b[39m)\n\u001b[1;32m----> 3\u001b[0m nums\u001b[38;5;241m=\u001b[39m\u001b[38;5;28;43minput\u001b[39;49m\u001b[43m(\u001b[49m\u001b[43m)\u001b[49m\u001b[38;5;241m.\u001b[39mstrip()\u001b[38;5;241m.\u001b[39msplit()\n\u001b[0;32m      4\u001b[0m nums\u001b[38;5;241m=\u001b[39m[\u001b[38;5;28mfloat\u001b[39m(num) \u001b[38;5;28;01mfor\u001b[39;00m num \u001b[38;5;129;01min\u001b[39;00m nums]\n\u001b[0;32m      5\u001b[0m \u001b[38;5;28;01mtry\u001b[39;00m:\n",
      "File \u001b[1;32mc:\\ProgramData\\anaconda3\\Lib\\site-packages\\ipykernel\\kernelbase.py:1262\u001b[0m, in \u001b[0;36mKernel.raw_input\u001b[1;34m(self, prompt)\u001b[0m\n\u001b[0;32m   1260\u001b[0m     msg \u001b[38;5;241m=\u001b[39m \u001b[38;5;124m\"\u001b[39m\u001b[38;5;124mraw_input was called, but this frontend does not support input requests.\u001b[39m\u001b[38;5;124m\"\u001b[39m\n\u001b[0;32m   1261\u001b[0m     \u001b[38;5;28;01mraise\u001b[39;00m StdinNotImplementedError(msg)\n\u001b[1;32m-> 1262\u001b[0m \u001b[38;5;28;01mreturn\u001b[39;00m \u001b[38;5;28;43mself\u001b[39;49m\u001b[38;5;241;43m.\u001b[39;49m\u001b[43m_input_request\u001b[49m\u001b[43m(\u001b[49m\n\u001b[0;32m   1263\u001b[0m \u001b[43m    \u001b[49m\u001b[38;5;28;43mstr\u001b[39;49m\u001b[43m(\u001b[49m\u001b[43mprompt\u001b[49m\u001b[43m)\u001b[49m\u001b[43m,\u001b[49m\n\u001b[0;32m   1264\u001b[0m \u001b[43m    \u001b[49m\u001b[38;5;28;43mself\u001b[39;49m\u001b[38;5;241;43m.\u001b[39;49m\u001b[43m_parent_ident\u001b[49m\u001b[43m[\u001b[49m\u001b[38;5;124;43m\"\u001b[39;49m\u001b[38;5;124;43mshell\u001b[39;49m\u001b[38;5;124;43m\"\u001b[39;49m\u001b[43m]\u001b[49m\u001b[43m,\u001b[49m\n\u001b[0;32m   1265\u001b[0m \u001b[43m    \u001b[49m\u001b[38;5;28;43mself\u001b[39;49m\u001b[38;5;241;43m.\u001b[39;49m\u001b[43mget_parent\u001b[49m\u001b[43m(\u001b[49m\u001b[38;5;124;43m\"\u001b[39;49m\u001b[38;5;124;43mshell\u001b[39;49m\u001b[38;5;124;43m\"\u001b[39;49m\u001b[43m)\u001b[49m\u001b[43m,\u001b[49m\n\u001b[0;32m   1266\u001b[0m \u001b[43m    \u001b[49m\u001b[43mpassword\u001b[49m\u001b[38;5;241;43m=\u001b[39;49m\u001b[38;5;28;43;01mFalse\u001b[39;49;00m\u001b[43m,\u001b[49m\n\u001b[0;32m   1267\u001b[0m \u001b[43m\u001b[49m\u001b[43m)\u001b[49m\n",
      "File \u001b[1;32mc:\\ProgramData\\anaconda3\\Lib\\site-packages\\ipykernel\\kernelbase.py:1305\u001b[0m, in \u001b[0;36mKernel._input_request\u001b[1;34m(self, prompt, ident, parent, password)\u001b[0m\n\u001b[0;32m   1302\u001b[0m \u001b[38;5;28;01mexcept\u001b[39;00m \u001b[38;5;167;01mKeyboardInterrupt\u001b[39;00m:\n\u001b[0;32m   1303\u001b[0m     \u001b[38;5;66;03m# re-raise KeyboardInterrupt, to truncate traceback\u001b[39;00m\n\u001b[0;32m   1304\u001b[0m     msg \u001b[38;5;241m=\u001b[39m \u001b[38;5;124m\"\u001b[39m\u001b[38;5;124mInterrupted by user\u001b[39m\u001b[38;5;124m\"\u001b[39m\n\u001b[1;32m-> 1305\u001b[0m     \u001b[38;5;28;01mraise\u001b[39;00m \u001b[38;5;167;01mKeyboardInterrupt\u001b[39;00m(msg) \u001b[38;5;28;01mfrom\u001b[39;00m\u001b[38;5;250m \u001b[39m\u001b[38;5;28;01mNone\u001b[39;00m\n\u001b[0;32m   1306\u001b[0m \u001b[38;5;28;01mexcept\u001b[39;00m \u001b[38;5;167;01mException\u001b[39;00m:\n\u001b[0;32m   1307\u001b[0m     \u001b[38;5;28mself\u001b[39m\u001b[38;5;241m.\u001b[39mlog\u001b[38;5;241m.\u001b[39mwarning(\u001b[38;5;124m\"\u001b[39m\u001b[38;5;124mInvalid Message:\u001b[39m\u001b[38;5;124m\"\u001b[39m, exc_info\u001b[38;5;241m=\u001b[39m\u001b[38;5;28;01mTrue\u001b[39;00m)\n",
      "\u001b[1;31mKeyboardInterrupt\u001b[0m: Interrupted by user"
     ]
    }
   ],
   "source": [
    "# filters\n",
    "print(\"Enter 4 random numbers as space seperated: \")\n",
    "nums=input().strip().split()\n",
    "nums=[float(num) for num in nums]\n",
    "try:\n",
    "    if len(nums)!=4:\n",
    "        raise ValueError(\"Please provide exactly 4 numbers\")\n",
    "    total_data=pd.Series(nums)\n",
    "    print(total_data)\n",
    "\n",
    "    fileter_data=total_data[total_data>10]\n",
    "    print(\"values > 10: \")\n",
    "    print(fileter_data)\n",
    "except Exception as e:\n",
    "    print(e)\n"
   ]
  },
  {
   "cell_type": "code",
   "execution_count": 2,
   "id": "c288a6a8",
   "metadata": {},
   "outputs": [
    {
     "name": "stdout",
     "output_type": "stream",
     "text": [
      "enter 4 numbers, space seperated: \n",
      "\n",
      " Original Series: \n",
      "a     22.0\n",
      "b     33.0\n",
      "c     44.0\n",
      "d    555.0\n",
      "dtype: float64\n",
      "\n",
      " series after doubling series:\n",
      "a      44.0\n",
      "b      66.0\n",
      "c      88.0\n",
      "d    1110.0\n",
      "dtype: float64\n",
      "\n",
      " series after adding 100:\n",
      "a    122.0\n",
      "b    133.0\n",
      "c    144.0\n",
      "d    655.0\n",
      "dtype: float64\n"
     ]
    }
   ],
   "source": [
    "import pandas as pd\n",
    "print(\"enter 4 numbers, space seperated: \")\n",
    "numbers=input().strip().split()\n",
    "numbers=[float (num) for num in numbers]\n",
    "try:\n",
    "    if len(numbers) != 4:\n",
    "        raise ValueError(\"Give 4 numbers only !!!\")\n",
    "    series= pd. Series (numbers, index=['a', 'b', 'c','d'])\n",
    "    print(\"\\n Original Series: \")\n",
    "    print(series)\n",
    "#doubling values vector operations\n",
    "    doubled= series*2\n",
    "    print(\"\\n \" \\\n",
    "    \"series after doubling series:\")\n",
    "    print (doubled)\n",
    "# adding 100 to all values vector operations\n",
    "    added =series+100\n",
    "    print(\"\\n series after adding 100:\")\n",
    "    print(added)\n",
    "except ValueError as e:\n",
    "    print(f\"error :{e}\")"
   ]
  },
  {
   "cell_type": "code",
   "execution_count": 8,
   "id": "38018633",
   "metadata": {},
   "outputs": [
    {
     "name": "stdout",
     "output_type": "stream",
     "text": [
      "    Name  Age Branch\n",
      "0   Mark   21    CSE\n",
      "1  Steve   22    ECE\n",
      "2  Jenny   21   MECH\n",
      "0     Mark\n",
      "1    Steve\n",
      "2    Jenny\n",
      "Name: Name, dtype: object\n",
      "    Name Branch\n",
      "0   Mark    CSE\n",
      "1  Steve    ECE\n",
      "2  Jenny   MECH\n",
      "Name      Jenny\n",
      "Age          21\n",
      "Branch     MECH\n",
      "Name: 2, dtype: object\n",
      "    Name  Salary  Age Branch\n",
      "0   Mark   10000   21    CSE\n",
      "1  Steve   11000   22    ECE\n",
      "2  Jenny    9000   21   MECH\n",
      "    Name  Salary  Age Branch\n",
      "0   Mark   10000   21    CSE\n",
      "1  Steve   11000   22    ECE\n",
      "2  Jenny    9000   25   MECH\n"
     ]
    }
   ],
   "source": [
    "data={\n",
    "    'Name':['Mark','Steve','Jenny'],\n",
    "    'Age':[21,22,21],\n",
    "    'Branch':['CSE','ECE','MECH']\n",
    "}\n",
    "dframe=pd.DataFrame(data)\n",
    "print(dframe)\n",
    "print(dframe['Name'])\n",
    "print(dframe[['Name','Branch']])\n",
    "print(dframe.iloc[2])\n",
    "stipend=[10000,11000,9000]\n",
    "dframe.insert(1,'Salary',stipend)\n",
    "print(dframe)\n",
    "dframe.at[2,'Age']=25\n",
    "print(dframe)\n",
    "dframe.to_csv('college.csv',index=False)\n"
   ]
  },
  {
   "cell_type": "code",
   "execution_count": 4,
   "id": "6bb294a7",
   "metadata": {},
   "outputs": [
    {
     "name": "stdout",
     "output_type": "stream",
     "text": [
      "--- Enter 1 ---\n",
      "--- Enter 2 ---\n",
      "\n",
      " DataFrame created....\n",
      "   Names      Age   Branch\n",
      "0      0     jjds    dghdi\n",
      "1  eghle  ledhgie  eljtgel\n"
     ]
    }
   ],
   "source": [
    "n=int(input(\"Enter numbers of profiles\"))\n",
    "names=[]\n",
    "ages=[]\n",
    "branches=[]\n",
    "for i in range(n):\n",
    "    print(f\"--- Enter {i+1} ---\")\n",
    "    name=input(\"Enter name :\")\n",
    "    age=input(\"Enter age :\")\n",
    "    branch=input(\"Enter branch :\")\n",
    "    names.append(name)\n",
    "    ages.append(age)\n",
    "    branches.append(branch)\n",
    "data={'Names':names,'Age':ages,'Branch':branches}\n",
    "df=pd.DataFrame(data)\n",
    "print(\"\\n DataFrame created....\")\n",
    "print(df\n",
    "      \n",
    "      )\n"
   ]
  },
  {
   "cell_type": "code",
   "execution_count": 9,
   "id": "202ff2ff",
   "metadata": {},
   "outputs": [
    {
     "name": "stdout",
     "output_type": "stream",
     "text": [
      "\n",
      " college dataFrame: \n",
      "<class 'pandas.core.frame.DataFrame'>\n",
      "RangeIndex: 3 entries, 0 to 2\n",
      "Data columns (total 4 columns):\n",
      " #   Column  Non-Null Count  Dtype \n",
      "---  ------  --------------  ----- \n",
      " 0   Name    3 non-null      object\n",
      " 1   Salary  3 non-null      int64 \n",
      " 2   Age     3 non-null      int64 \n",
      " 3   Branch  3 non-null      object\n",
      "dtypes: int64(2), object(2)\n",
      "memory usage: 228.0+ bytes\n",
      "None\n",
      "        Salary        Age\n",
      "count      3.0   3.000000\n",
      "mean   10000.0  22.666667\n",
      "std     1000.0   2.081666\n",
      "min     9000.0  21.000000\n",
      "25%     9500.0  21.500000\n",
      "50%    10000.0  22.000000\n",
      "75%    10500.0  23.500000\n",
      "max    11000.0  25.000000\n"
     ]
    }
   ],
   "source": [
    "try:\n",
    "    df=pd.read_csv('college.csv')\n",
    "    print(\"\\n college dataFrame: \")\n",
    "    print(df.info())\n",
    "    print(df.describe())\n",
    "except FileNotFoundError:\n",
    "    print(\"Error:'college.csv' not found\")\n",
    "\n"
   ]
  },
  {
   "cell_type": "code",
   "execution_count": null,
   "id": "9f7487e0",
   "metadata": {},
   "outputs": [],
   "source": []
  }
 ],
 "metadata": {
  "kernelspec": {
   "display_name": "base",
   "language": "python",
   "name": "python3"
  },
  "language_info": {
   "codemirror_mode": {
    "name": "ipython",
    "version": 3
   },
   "file_extension": ".py",
   "mimetype": "text/x-python",
   "name": "python",
   "nbconvert_exporter": "python",
   "pygments_lexer": "ipython3",
   "version": "3.12.7"
  }
 },
 "nbformat": 4,
 "nbformat_minor": 5
}
