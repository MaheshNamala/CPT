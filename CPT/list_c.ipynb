{
 "cells": [
  {
   "cell_type": "markdown",
   "id": "1293cf24",
   "metadata": {},
   "source": [
    "1.Filter vs Map\n",
    "2.Sorted vs Sort\n",
    "3.List comprehension\n",
    "4.Lambda function"
   ]
  },
  {
   "cell_type": "code",
   "execution_count": 2,
   "id": "eefc24a8",
   "metadata": {},
   "outputs": [
    {
     "name": "stdout",
     "output_type": "stream",
     "text": [
      "[(2, 11), (66, 66), (11, 99)]\n"
     ]
    }
   ],
   "source": [
    "p=[(11,99),(2,11),(66,66)]\n",
    "res=sorted(p,key=lambda x:x[1])\n",
    "print(res)"
   ]
  },
  {
   "cell_type": "code",
   "execution_count": 6,
   "id": "9a1b0f29",
   "metadata": {},
   "outputs": [
    {
     "name": "stdout",
     "output_type": "stream",
     "text": [
      "10\n"
     ]
    }
   ],
   "source": [
    "def b(n):\n",
    "    return lambda x:x*n\n",
    "a=b(2)\n",
    "print(a(5))"
   ]
  },
  {
   "cell_type": "code",
   "execution_count": 10,
   "id": "ae2bfa89",
   "metadata": {},
   "outputs": [
    {
     "name": "stdout",
     "output_type": "stream",
     "text": [
      "mahesh\n"
     ]
    }
   ],
   "source": [
    "a=\"mahesh\"\n",
    "b=\"babu\"\n",
    "c=lambda x,y:a if len(a)>len(b) else b\n",
    "print(c(a,b))"
   ]
  },
  {
   "cell_type": "code",
   "execution_count": null,
   "id": "96bc5a80",
   "metadata": {},
   "outputs": [],
   "source": [
    "# a=lambda d:[i for i in d if str(type(i))==\"<class 'int'>\"]\n",
    "# data=[10,'hi',4.5,'student',3,100]\n",
    "# print(a(data))\n",
    "\n",
    "\n",
    "# a=lambda n: 1 if n==0 else n*a(n-1)\n",
    "# print(a(int(input(\"Enter range:\"))))\n",
    "\n",
    "\n",
    "# fact=(lambda f:lambda n:0 if n==0 else n*f(f)(n-1))(lambda f:lambda n:1 if n==0 else n*f(f)(n-1))\n",
    "# print(fact(5))"
   ]
  },
  {
   "cell_type": "code",
   "execution_count": 11,
   "id": "48a2b432",
   "metadata": {},
   "outputs": [
    {
     "name": "stdout",
     "output_type": "stream",
     "text": [
      "['DVIJ', 'RSLIGJRI', 'RIDIKD']\n"
     ]
    }
   ],
   "source": [
    "data=[\"dvij\",\"rsligjri\",\"ridikd\"]\n",
    "upp=[(lambda x:x.upper())(d) for d in data]\n",
    "print(upp)"
   ]
  },
  {
   "cell_type": "code",
   "execution_count": 25,
   "id": "093f1e0b",
   "metadata": {},
   "outputs": [
    {
     "name": "stdout",
     "output_type": "stream",
     "text": [
      "['Hi', 'Students', 'morning']\n"
     ]
    }
   ],
   "source": [
    "data=[\"Hi\",\" \",\"Students\",\" \",\"morning\"]\n",
    "upp=[d for d in data if(lambda x:x!=\" \")(d)]\n",
    "print(upp)"
   ]
  },
  {
   "cell_type": "code",
   "execution_count": null,
   "id": "37cb9609",
   "metadata": {},
   "outputs": [],
   "source": []
  }
 ],
 "metadata": {
  "kernelspec": {
   "display_name": "base",
   "language": "python",
   "name": "python3"
  },
  "language_info": {
   "codemirror_mode": {
    "name": "ipython",
    "version": 3
   },
   "file_extension": ".py",
   "mimetype": "text/x-python",
   "name": "python",
   "nbconvert_exporter": "python",
   "pygments_lexer": "ipython3",
   "version": "3.12.7"
  }
 },
 "nbformat": 4,
 "nbformat_minor": 5
}
