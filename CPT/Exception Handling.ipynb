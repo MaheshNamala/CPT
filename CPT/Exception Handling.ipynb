{
 "cells": [
  {
   "cell_type": "markdown",
   "id": "d3f1a63f",
   "metadata": {},
   "source": [
    "Types of exceptions\n",
    "1.Exception             --               base class for all exceptions\n",
    "2.StopIteration         --               next() doesnot point any object\n",
    "3.SystemExit            --               sys.exit() function raise\n",
    "4.StandardError\n",
    "5.ArithmeticError       --               Math calculation error  \n",
    "6.OverflowError         --               numeric type exceeding the limit of its size\n",
    "7.ZeroDivisionError     --               0/10\n",
    "8.AssertionError        --               Assert statement\n",
    "9.EOFError              --               till ennd o last statement,when no IO or return value occurs\n",
    "10.ImportError\n",
    "11.KeyboardInterrupt\n",
    "12.LookupError\n",
    "13.IndexError\n",
    "14.NameError\n",
    "15.EnvironmentError\n",
    "16.IOError\n",
    "17.SystemError\n",
    "18.ValueError\n",
    "19.RuntimeError\n",
    "20.TypeError\n",
    "21.SyntaxError\n",
    "22.IndentationError\n",
    "23.NotImplementationError   --- occures in oops of Inheritence(abstract)"
   ]
  },
  {
   "cell_type": "code",
   "execution_count": null,
   "id": "3a752d06",
   "metadata": {},
   "outputs": [],
   "source": [
    "#Exception handling\n",
    "n=int(input(\"enter the number\"))\n",
    "d=int(input(\"enter the number\"))\n",
    "try:\n",
    "    quo=n/d\n",
    "    print(\"Quotient: \",quo)\n",
    "except ZeroDivisionError:\n",
    "    print(\"denimator must not be 0\")\n",
    "print(\"Hi\")"
   ]
  },
  {
   "cell_type": "code",
   "execution_count": 14,
   "id": "b4f036e1",
   "metadata": {},
   "outputs": [
    {
     "name": "stdout",
     "output_type": "stream",
     "text": [
      "ValueError\n",
      "invalid literal for int() with base 10: '11.2'\n",
      "shnvlidhbiedjfbolmbfdpgh\n"
     ]
    }
   ],
   "source": [
    "try:\n",
    "    d=int(input(\"enter the number\"))\n",
    "    print(d*5)\n",
    "except Exception as e:\n",
    "    print(type(e).__name__,e,sep=\"\\n\")\n",
    "print(\"shnvlidhbiedjfbolmbfdpgh\")"
   ]
  },
  {
   "cell_type": "code",
   "execution_count": 23,
   "id": "2af1b0b4",
   "metadata": {},
   "outputs": [
    {
     "name": "stdout",
     "output_type": "stream",
     "text": [
      "FileNotFoundError\n",
      "[Errno 2] No such file or directory: 'hi1.txt'\n"
     ]
    }
   ],
   "source": [
    "try:\n",
    "    f=open(\"hi1.txt\")\n",
    "    s=f.readline()\n",
    "    print(s)\n",
    "except Exception as e:\n",
    "    print(type(e).__name__,e,sep=\"\\n\")\n",
    "else:\n",
    "    print(\"Hurray!!!!!!!\")"
   ]
  },
  {
   "cell_type": "code",
   "execution_count": 26,
   "id": "e3fdac7e",
   "metadata": {},
   "outputs": [
    {
     "name": "stdout",
     "output_type": "stream",
     "text": [
      "Re-raising the Exeption\n"
     ]
    }
   ],
   "source": [
    "try:\n",
    "    raise NameError\n",
    "except:\n",
    "    print(\"Re-raising the Exeption\")\n",
    "    "
   ]
  },
  {
   "cell_type": "code",
   "execution_count": null,
   "id": "2639c17e",
   "metadata": {},
   "outputs": [],
   "source": [
    "try:\n",
    "    print(\"Raising Exception\")\n",
    "    raise ValueError\n",
    "finally:\n",
    "    print(\"sjfhshvlsfh\")"
   ]
  },
  {
   "cell_type": "code",
   "execution_count": 28,
   "id": "258fc657",
   "metadata": {},
   "outputs": [
    {
     "ename": "AssertionError",
     "evalue": "It's cold",
     "output_type": "error",
     "traceback": [
      "\u001b[1;31m---------------------------------------------------------------------------\u001b[0m",
      "\u001b[1;31mAssertionError\u001b[0m                            Traceback (most recent call last)",
      "Cell \u001b[1;32mIn[28], line 3\u001b[0m\n\u001b[0;32m      1\u001b[0m c\u001b[38;5;241m=\u001b[39m\u001b[38;5;28mint\u001b[39m(\u001b[38;5;28minput\u001b[39m(\u001b[38;5;124m\"\u001b[39m\u001b[38;5;124menter the number\u001b[39m\u001b[38;5;124m\"\u001b[39m))\n\u001b[0;32m      2\u001b[0m f\u001b[38;5;241m=\u001b[39m(c\u001b[38;5;241m*\u001b[39m\u001b[38;5;241m9\u001b[39m\u001b[38;5;241m/\u001b[39m\u001b[38;5;241m5\u001b[39m)\u001b[38;5;241m+\u001b[39m\u001b[38;5;241m32\u001b[39m\n\u001b[1;32m----> 3\u001b[0m \u001b[38;5;28;01massert\u001b[39;00m(f\u001b[38;5;241m<\u001b[39m\u001b[38;5;241m=\u001b[39m\u001b[38;5;241m32\u001b[39m),\u001b[38;5;124m\"\u001b[39m\u001b[38;5;124mIt\u001b[39m\u001b[38;5;124m'\u001b[39m\u001b[38;5;124ms cold\u001b[39m\u001b[38;5;124m\"\u001b[39m\n\u001b[0;32m      4\u001b[0m \u001b[38;5;28mprint\u001b[39m(\u001b[38;5;124m\"\u001b[39m\u001b[38;5;124mFahrenheit: \u001b[39m\u001b[38;5;124m\"\u001b[39m,f)\n",
      "\u001b[1;31mAssertionError\u001b[0m: It's cold"
     ]
    }
   ],
   "source": [
    "c=int(input(\"enter the number\"))\n",
    "f=(c*9/5)+32\n",
    "assert(f<=32),\"It's cold\"\n",
    "print(\"Fahrenheit: \",f)"
   ]
  },
  {
   "cell_type": "code",
   "execution_count": null,
   "id": "ce61fded",
   "metadata": {},
   "outputs": [
    {
     "name": "stdout",
     "output_type": "stream",
     "text": [
      "2 3 4 5 6 7 8 9 10 11 12 13 14 15 16 17 18 19 20 "
     ]
    }
   ],
   "source": [
    "i=1\n",
    "while True:\n",
    "    try:\n",
    "        i+=1\n",
    "        if i==21:\n",
    "            raise StopIteration\n",
    "    except StopIteration:\n",
    "        break\n",
    "    else:\n",
    "        print(i,end=\" \")"
   ]
  },
  {
   "cell_type": "code",
   "execution_count": null,
   "id": "ee057ba0",
   "metadata": {},
   "outputs": [],
   "source": [
    "import"
   ]
  }
 ],
 "metadata": {
  "kernelspec": {
   "display_name": "base",
   "language": "python",
   "name": "python3"
  },
  "language_info": {
   "codemirror_mode": {
    "name": "ipython",
    "version": 3
   },
   "file_extension": ".py",
   "mimetype": "text/x-python",
   "name": "python",
   "nbconvert_exporter": "python",
   "pygments_lexer": "ipython3",
   "version": "3.12.7"
  }
 },
 "nbformat": 4,
 "nbformat_minor": 5
}
