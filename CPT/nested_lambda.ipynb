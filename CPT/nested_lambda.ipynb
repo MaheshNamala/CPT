{
 "cells": [
  {
   "cell_type": "code",
   "execution_count": 9,
   "id": "e15d3dc0",
   "metadata": {},
   "outputs": [
    {
     "name": "stdout",
     "output_type": "stream",
     "text": [
      "8\n"
     ]
    }
   ],
   "source": [
    "l2=lambda a:lambda b,c:(a+b)*c\n",
    "l1=l2(1)\n",
    "value=l1(3,2)\n",
    "print(value)"
   ]
  },
  {
   "cell_type": "code",
   "execution_count": 10,
   "id": "e7a6a095",
   "metadata": {},
   "outputs": [
    {
     "name": "stdout",
     "output_type": "stream",
     "text": [
      "21\n"
     ]
    }
   ],
   "source": [
    "print((lambda a:lambda b:lambda c,d:(a+b)*(c+d))(1)(2)(3,4))"
   ]
  },
  {
   "cell_type": "code",
   "execution_count": 13,
   "id": "d6c7aa26",
   "metadata": {},
   "outputs": [
    {
     "name": "stdout",
     "output_type": "stream",
     "text": [
      "49\n"
     ]
    }
   ],
   "source": [
    " print((lambda a:lambda b:(a+b)**2)(5)(2))\n",
    "#  numsq=oper(5)\n",
    "#  print(numsq(2))"
   ]
  },
  {
   "cell_type": "code",
   "execution_count": null,
   "id": "01c4280a",
   "metadata": {},
   "outputs": [
    {
     "name": "stdout",
     "output_type": "stream",
     "text": [
      "5.0\n"
     ]
    }
   ],
   "source": [
    "print((lambda a,b:lambda c,d:(a-b)/(c-d))(5,2)(6,1))"
   ]
  },
  {
   "cell_type": "code",
   "execution_count": 22,
   "id": "4da22274",
   "metadata": {},
   "outputs": [
    {
     "name": "stdout",
     "output_type": "stream",
     "text": [
      "(0.46153846153846156+0.6923076923076924j)\n"
     ]
    }
   ],
   "source": [
    "try:\n",
    "    print((lambda a,b:lambda c,d:(a-b)/(c-d))(5,2)(6,4+3j))\n",
    "except Exception as e:\n",
    "    print(e)"
   ]
  },
  {
   "cell_type": "code",
   "execution_count": 26,
   "id": "2309b6bc",
   "metadata": {},
   "outputs": [
    {
     "name": "stdout",
     "output_type": "stream",
     "text": [
      "HI! STUDENTS!!!\n"
     ]
    }
   ],
   "source": [
    "print((lambda a:lambda b:lambda c,d:f\"{a.upper()}{b} {c.upper()}{d}\")(\"hi\")(\"!\")(\"students\",\"!!!\"))"
   ]
  },
  {
   "cell_type": "code",
   "execution_count": 50,
   "id": "11ef6266",
   "metadata": {},
   "outputs": [
    {
     "name": "stdout",
     "output_type": "stream",
     "text": [
      "ih,olleh,stneduts,yaddoog\n"
     ]
    }
   ],
   "source": [
    "print((lambda a,b,c,d :\"\".join(a[::-1]+\",\"+b[::-1]+\",\"+c[::-1]+\",\"+d[::-1]))(\"hi\",\"hello\",\"students\",\"goodday\"))"
   ]
  },
  {
   "cell_type": "code",
   "execution_count": 56,
   "id": "1417ecb7",
   "metadata": {},
   "outputs": [
    {
     "name": "stdout",
     "output_type": "stream",
     "text": [
      "[3, 6, 9, 8, 10, 12]\n"
     ]
    }
   ],
   "source": [
    "a1=list(map(int,input().split()))\n",
    "b1=int(input(\"Enter target element: \"))\n",
    "print((lambda a:lambda b:[i*2 if i>b else i*3 for i in a])(a1)(b1))"
   ]
  },
  {
   "cell_type": "code",
   "execution_count": 57,
   "id": "22a292a2",
   "metadata": {},
   "outputs": [
    {
     "name": "stdout",
     "output_type": "stream",
     "text": [
      "[1, 8, 27, 125, 216]\n"
     ]
    }
   ],
   "source": [
    "a=[1,2,3,5,6]\n",
    "print(list(map(lambda x:x**3,a)))"
   ]
  },
  {
   "cell_type": "code",
   "execution_count": 60,
   "id": "b5bb0d3d",
   "metadata": {},
   "outputs": [
    {
     "name": "stdout",
     "output_type": "stream",
     "text": [
      "5\n"
     ]
    }
   ],
   "source": [
    "a=[1,3,4,5,4,2,2]\n",
    "for i in range(len(a)-1):\n",
    "    if sum(a[:i])==sum(a[i+1:]):\n",
    "        print(a[i])\n",
    "        break"
   ]
  }
 ],
 "metadata": {
  "kernelspec": {
   "display_name": "base",
   "language": "python",
   "name": "python3"
  },
  "language_info": {
   "codemirror_mode": {
    "name": "ipython",
    "version": 3
   },
   "file_extension": ".py",
   "mimetype": "text/x-python",
   "name": "python",
   "nbconvert_exporter": "python",
   "pygments_lexer": "ipython3",
   "version": "3.12.7"
  }
 },
 "nbformat": 4,
 "nbformat_minor": 5
}
