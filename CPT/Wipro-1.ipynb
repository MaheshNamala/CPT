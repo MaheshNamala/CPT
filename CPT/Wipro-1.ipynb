{
 "cells": [
  {
   "cell_type": "code",
   "execution_count": null,
   "id": "a957c903",
   "metadata": {},
   "outputs": [],
   "source": [
    "# Python modules for data Science\n",
    "import math as m\n",
    "n=int(input(\"Enter the number\"))\n",
    "print(\"square root\",m.sqrt(n))\n",
    "print(\"Factorial\",m.factorial(n))\n",
    "print(\"PI value\",m.pi)\n",
    "print(\"floor\",m.floor(n))\n",
    "print(\"power\",m.pow(n,3))"
   ]
  },
  {
   "cell_type": "code",
   "execution_count": null,
   "id": "fa9324df",
   "metadata": {},
   "outputs": [],
   "source": [
    "# Random module\n",
    "import random as r\n",
    "l=[1,2,4,3,5,7,6]\n",
    "r.shuffle(l)\n",
    "print(l)\n",
    "r.seed(1)\n",
    "print(r.randint(1,100))\n",
    "print(r.randint(1,100))"
   ]
  },
  {
   "cell_type": "code",
   "execution_count": 83,
   "id": "2e08bfde",
   "metadata": {},
   "outputs": [
    {
     "name": "stdout",
     "output_type": "stream",
     "text": [
      "2025-06-30 12:16:25.455505\n",
      "2025-06-30\n",
      "30-06-2025\n",
      "2004-06-27 14:55:00\n",
      "2025-07-01 12:16:25.455505\n",
      "2025-06-29 12:16:25.455505\n",
      "30-06-2025 12:16:25\n"
     ]
    },
    {
     "ename": "TypeError",
     "evalue": "can only concatenate str (not \"datetime.timedelta\") to str",
     "output_type": "error",
     "traceback": [
      "\u001b[31m---------------------------------------------------------------------------\u001b[39m",
      "\u001b[31mTypeError\u001b[39m                                 Traceback (most recent call last)",
      "\u001b[36mCell\u001b[39m\u001b[36m \u001b[39m\u001b[32mIn[83]\u001b[39m\u001b[32m, line 24\u001b[39m\n\u001b[32m     22\u001b[39m now=now.strftime(\u001b[33m\"\u001b[39m\u001b[38;5;132;01m%d\u001b[39;00m\u001b[33m-\u001b[39m\u001b[33m%\u001b[39m\u001b[33mm-\u001b[39m\u001b[33m%\u001b[39m\u001b[33mY \u001b[39m\u001b[33m%\u001b[39m\u001b[33mI:\u001b[39m\u001b[33m%\u001b[39m\u001b[33mM:\u001b[39m\u001b[33m%\u001b[39m\u001b[33mS\u001b[39m\u001b[33m\"\u001b[39m)\n\u001b[32m     23\u001b[39m \u001b[38;5;28mprint\u001b[39m(now)\n\u001b[32m---> \u001b[39m\u001b[32m24\u001b[39m ftime=\u001b[43mnow\u001b[49m\u001b[43m+\u001b[49m\u001b[43md\u001b[49m\u001b[43m.\u001b[49m\u001b[43mtimedelta\u001b[49m\u001b[43m(\u001b[49m\u001b[43mhours\u001b[49m\u001b[43m=\u001b[49m\u001b[32;43m3\u001b[39;49m\u001b[43m,\u001b[49m\u001b[43mminutes\u001b[49m\u001b[43m=\u001b[49m\u001b[32;43m30\u001b[39;49m\u001b[43m)\u001b[49m\n\u001b[32m     25\u001b[39m \u001b[38;5;28mprint\u001b[39m(ftime)\n",
      "\u001b[31mTypeError\u001b[39m: can only concatenate str (not \"datetime.timedelta\") to str"
     ]
    }
   ],
   "source": [
    "# Python Datetime\n",
    "import datetime as d\n",
    "now=d.datetime.now()\n",
    "print(now)     # current time according to server or system\n",
    "print(d.date.today())       # only date appeares\n",
    "\n",
    "# formative datetime\n",
    "f=now.strftime(\"%d-%m-%Y\")\n",
    "print(f)\n",
    "\n",
    "# parsed datetime\n",
    "date_str=\"27-06-2004 14:55:00\"\n",
    "parsed=d.datetime.strptime(date_str,\"%d-%m-%Y %H:%M:%S\")\n",
    "print(parsed)\n",
    "\n",
    "#timedelta\n",
    "tomorrow=now+d.timedelta(days=1)\n",
    "print(tomorrow)\n",
    "yesterday=now-d.timedelta(days=1)\n",
    "print(yesterday)\n",
    "\n",
    "now=now.strftime(\"%d-%m-%Y %I:%M:%S\")\n",
    "print(now)\n",
    "ftime=now+d.timedelta(hours=3,minutes=30)\n",
    "print(ftime)\n",
    "\n"
   ]
  },
  {
   "cell_type": "markdown",
   "id": "34ff9b1d",
   "metadata": {},
   "source": [
    "Tasks\n",
    "\n",
    "1.Sql tool configuration in VS code\n",
    "\n",
    "2.OOPS python\n",
    "\n",
    "3.random.seed()"
   ]
  },
  {
   "cell_type": "markdown",
   "id": "d8f95f63",
   "metadata": {},
   "source": [
    "python modules \n",
    "\n",
    "1.math(sqrt,factorial,pow,floor,ceil,pi)\n",
    "\n",
    "2.random(random,randint(x,y),choice,choices,shuffle,sample)\n",
    "\n",
    "3.datetime(datetime.now(),strptime,strftime(),timedelta(),date.today(),datetime.date)\n",
    "\n",
    "4.calender\n",
    "\n",
    "5.JSON -- Normalize the Data(Serializing)\n",
    "\n",
    "6.csv\n",
    "\n",
    "7.sqlite3\n",
    "\n",
    "8.OS modules(Directory modules)\n",
    "\n",
    "9.collections\n",
    "\n",
    "10.Regex\n",
    "\n",
    "11.itertools\n"
   ]
  }
 ],
 "metadata": {
  "kernelspec": {
   "display_name": "Python 3",
   "language": "python",
   "name": "python3"
  },
  "language_info": {
   "codemirror_mode": {
    "name": "ipython",
    "version": 3
   },
   "file_extension": ".py",
   "mimetype": "text/x-python",
   "name": "python",
   "nbconvert_exporter": "python",
   "pygments_lexer": "ipython3",
   "version": "3.13.1"
  }
 },
 "nbformat": 4,
 "nbformat_minor": 5
}
