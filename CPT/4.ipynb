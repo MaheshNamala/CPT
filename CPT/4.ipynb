{
 "cells": [
  {
   "cell_type": "code",
   "execution_count": 40,
   "id": "7d21760e",
   "metadata": {},
   "outputs": [
    {
     "name": "stdout",
     "output_type": "stream",
     "text": [
      "fhbvdfhbevih,var=  10\n"
     ]
    }
   ],
   "source": [
    "class a():\n",
    "    def __init__(self,var):\n",
    "        self.__var=var\n",
    "    def __dis(self):\n",
    "        print(\"fhbvdfhbevih,var= \",self.__var)\n",
    "obj=a(10)\n",
    "obj._a__dis()"
   ]
  },
  {
   "cell_type": "code",
   "execution_count": 41,
   "id": "a74935ee",
   "metadata": {},
   "outputs": [
    {
     "name": "stdout",
     "output_type": "stream",
     "text": [
      "var is: 15\n"
     ]
    }
   ],
   "source": [
    "class a:\n",
    "    def __init__(self,var):\n",
    "        self.var=var\n",
    "    def display(self):\n",
    "        print(\"var is:\",self.var)\n",
    "    def ad(self):\n",
    "        self.var+=5\n",
    "        self.display()\n",
    "o=a(10)\n",
    "o.ad()\n"
   ]
  },
  {
   "cell_type": "code",
   "execution_count": 42,
   "id": "198961f0",
   "metadata": {},
   "outputs": [
    {
     "name": "stdout",
     "output_type": "stream",
     "text": [
      "The value is: 10\n",
      "The value is: 1000\n"
     ]
    }
   ],
   "source": [
    "class a:\n",
    "    def __init__(self,v):\n",
    "        self.v=v\n",
    "    def ds(self):\n",
    "        print(\"The value is:\",self.v)\n",
    "    def modi(self):\n",
    "        self.v=aa(self.v)\n",
    "def aa(x):\n",
    "    return x**3\n",
    "o=a(10)\n",
    "o.ds()\n",
    "o.modi()\n",
    "o.ds()"
   ]
  },
  {
   "cell_type": "code",
   "execution_count": 43,
   "id": "84e9e9eb",
   "metadata": {},
   "outputs": [
    {
     "name": "stdout",
     "output_type": "stream",
     "text": [
      "The value is: 10\n",
      "True\n",
      "55\n",
      "65\n",
      "None\n"
     ]
    }
   ],
   "source": [
    "class a:\n",
    "    def __init__(self,v):\n",
    "        self.v=v\n",
    "    def ds(self):\n",
    "        print(\"The value is:\",self.v)\n",
    "o=a(10)\n",
    "o.ds()\n",
    "print(hasattr(o,'v'))\n",
    "setattr(o,'v',55)\n",
    "print(getattr(o,'v'))\n",
    "setattr(o,'k',65)\n",
    "print(o.k)\n",
    "print(delattr(o,'k'))\n",
    "#print(o.k)"
   ]
  },
  {
   "cell_type": "markdown",
   "id": "dd8d9ceb",
   "metadata": {},
   "source": [
    "Built-in class attr\n",
    ".__doc__--- when string doc is not specified it don't return attributes\n",
    ".__dict__ namespace accessed attributes\n",
    ".__name__ returns class attr's name\n",
    ".__module__\n",
    ".__bases__ used in inheritence"
   ]
  },
  {
   "cell_type": "code",
   "execution_count": 44,
   "id": "c0459fc4",
   "metadata": {},
   "outputs": [
    {
     "name": "stdout",
     "output_type": "stream",
     "text": [
      "10\n",
      "12.123\n",
      "None\n",
      "{'v1': 10, 'v2': 12.123}\n",
      "a\n",
      "__main__\n",
      "(<class 'object'>,)\n"
     ]
    }
   ],
   "source": [
    "class a:\n",
    "    def __init__(self,v1,v2):\n",
    "        self.v1=v1\n",
    "        self.v2=v2\n",
    "    def ds(self):\n",
    "        print(self.v1)\n",
    "        print(self.v2)\n",
    "o=a(10,12.123)\n",
    "o.ds()\n",
    "print(o.__doc__)\n",
    "print(o.__dict__)\n",
    "print(a.__name__)\n",
    "print(o.__module__)\n",
    "print(a.__bases__)"
   ]
  },
  {
   "cell_type": "markdown",
   "id": "56766842",
   "metadata": {},
   "source": [
    "Garbage values give us a hint to access the data in particular address"
   ]
  },
  {
   "cell_type": "code",
   "execution_count": 1,
   "id": "4f9b95fd",
   "metadata": {},
   "outputs": [
    {
     "name": "stdout",
     "output_type": "stream",
     "text": [
      "vijay got [89, 87, 9]\n",
      "ajay got [76, 98, 98]\n"
     ]
    }
   ],
   "source": [
    "class student:\n",
    "    def __init__(self,name):\n",
    "         self.name=name\n",
    "         self.l=[]\n",
    "    def m(self):\n",
    "        for i in range(3):\n",
    "            k=int(input(\"enter:\"))\n",
    "            self.l.append(k)\n",
    "    def ds(self):\n",
    "        print(f\"{self.name} got {self.l}\")\n",
    "o=student(\"vijay\")\n",
    "o.m()\n",
    "o1=student(\"ajay\")\n",
    "o1.m()\n",
    "o.ds()\n",
    "o1.ds()"
   ]
  },
  {
   "cell_type": "code",
   "execution_count": 50,
   "id": "b3c1634a",
   "metadata": {},
   "outputs": [
    {
     "name": "stdout",
     "output_type": "stream",
     "text": [
      "area of circle: 176.7144375\n",
      "circumference is: 47.12385\n"
     ]
    }
   ],
   "source": [
    "class circle:\n",
    "    pi=3.14159\n",
    "    def __init__(self,r):\n",
    "        self.r=r\n",
    "    def area(self):\n",
    "        return circle.pi*self.r**2\n",
    "    def cir(self):\n",
    "        return 2*circle.pi*self.r\n",
    "a=circle(7.5)\n",
    "print(\"area of circle:\",a.area())\n",
    "print(\"circumference is:\",a.cir())"
   ]
  },
  {
   "cell_type": "code",
   "execution_count": 10,
   "id": "f53096d1",
   "metadata": {},
   "outputs": [
    {
     "name": "stdout",
     "output_type": "stream",
     "text": [
      "b\n",
      "a\n",
      "derived class from object\n"
     ]
    }
   ],
   "source": [
    " #multiple inheritence\n",
    "class a():\n",
    "    def __init__(self):\n",
    "        super(a,self).__init__()\n",
    "        print(\"a\")\n",
    "class b():\n",
    "    def __init__(self):\n",
    "        super(b,self).__init__()\n",
    "        print(\"b\")\n",
    "class de(a,b):\n",
    "    def __init__(self):\n",
    "        super(de,self).__init__()\n",
    "        print(\"derived class from object\")\n",
    "d=de()\n",
    "    "
   ]
  },
  {
   "cell_type": "code",
   "execution_count": 19,
   "id": "cb60292d",
   "metadata": {},
   "outputs": [
    {
     "name": "stdout",
     "output_type": "stream",
     "text": [
      "5\n",
      "6\n"
     ]
    }
   ],
   "source": [
    "class add():\n",
    "    def __init__(self,a,b):\n",
    "        return a+b\n",
    "class mul():\n",
    "    def __init__(self,a,b):\n",
    "        return a*b\n",
    "class calc(add,mul):\n",
    "    def __init__(self,a,b):\n",
    "        print(add.__init__(self,a,b))\n",
    "        print(mul.__init__(self,a,b))\n",
    "d=calc(a=int(input(\"enter a:\")),b=int(input(\"enter b:\")))"
   ]
  },
  {
   "cell_type": "code",
   "execution_count": 26,
   "id": "215f35fd",
   "metadata": {},
   "outputs": [
    {
     "name": "stdout",
     "output_type": "stream",
     "text": [
      "80\n"
     ]
    }
   ],
   "source": [
    "class sq:\n",
    "    def __init__(self,a):\n",
    "        return a*a\n",
    "class cube:\n",
    "    def __init__(self,a):\n",
    "        return a**3\n",
    "class derive(sq,cube):\n",
    "    def __init__(self,a):\n",
    "        print(sq.__init__(self,a)+cube.__init__(self,a))\n",
    "d=derive(4)"
   ]
  },
  {
   "cell_type": "code",
   "execution_count": 27,
   "id": "1c448d2e",
   "metadata": {},
   "outputs": [
    {
     "name": "stdout",
     "output_type": "stream",
     "text": [
      "name\n",
      "phd\n",
      "experience is 15 years\n"
     ]
    }
   ],
   "source": [
    "class person:\n",
    "    def name(self):\n",
    "        print(\"name\")\n",
    "class teacher(person):\n",
    "    def qualification(self):\n",
    "        print(\"phd\")\n",
    "class hod(teacher):\n",
    "    def exp(self):\n",
    "        print(\"experience is 15 years\")\n",
    "d=hod()\n",
    "d.name()\n",
    "d.qualification()\n",
    "d.exp()"
   ]
  },
  {
   "cell_type": "code",
   "execution_count": 37,
   "id": "116b4994",
   "metadata": {},
   "outputs": [
    {
     "name": "stdout",
     "output_type": "stream",
     "text": [
      "4\n"
     ]
    },
    {
     "data": {
      "text/plain": [
       "8"
      ]
     },
     "execution_count": 37,
     "metadata": {},
     "output_type": "execute_result"
    }
   ],
   "source": [
    "class n:\n",
    "    def __init__(self,num):\n",
    "        self.num=num\n",
    "class sq(n):\n",
    "    def square(self):\n",
    "        return self.num**2\n",
    "class cu(sq):\n",
    "    def cube(self):\n",
    "        return self.num*self.square()\n",
    "d=cu(2)\n",
    "print(d.square())\n",
    "d.cube()"
   ]
  },
  {
   "cell_type": "markdown",
   "id": "d715ecf8",
   "metadata": {},
   "source": [
    "course era or edx financial/audit cloud\n",
    "Azure az 900\n",
    "Azure pl 900\n",
    "AWS process Associate - Aws portal\n",
    "developer roles \n",
    "Meta/google Frontend/Backend\n",
    "certificate - CourseEra\n",
    "Python for everybody - Courseera\n",
    "Google android developer\n",
    "cyber security/Linux/Networking\n",
    "RH-104/124/134 "
   ]
  },
  {
   "cell_type": "code",
   "execution_count": 39,
   "id": "4e5d1558",
   "metadata": {},
   "outputs": [
    {
     "name": "stdout",
     "output_type": "stream",
     "text": [
      "sweet Yellow vitamin-A\n",
      "sweet & sour orange vitamin-c\n"
     ]
    }
   ],
   "source": [
    "#ABSTARCT class\n",
    "class fruit:\n",
    "    def taste(self):\n",
    "        raise NotImplementedError()\n",
    "    def vitamin(self):\n",
    "        raise NotImplementedError()\n",
    "    def color(self):\n",
    "        raise NotImplementedError()\n",
    "class mango(fruit):\n",
    "    def taste(self):\n",
    "        return \"sweet\"\n",
    "    def vitamin(self):\n",
    "        return \"vitamin-A\"\n",
    "    def color(self):\n",
    "        return \"Yellow\"\n",
    "class orange(friut):\n",
    "    def taste(self):\n",
    "        return \"sweet & sour\"\n",
    "    def vitamin(self):\n",
    "        return \"vitamin-c\"\n",
    "    def color(self):\n",
    "        return \"orange\"\n",
    "    \n",
    "alphanzo=mango()\n",
    "print(alphanzo.taste(),alphanzo.color(),alphanzo.vitamin())\n",
    "org=orange()\n",
    "print(org.taste(),org.color(),org.vitamin())"
   ]
  }
 ],
 "metadata": {
  "kernelspec": {
   "display_name": "base",
   "language": "python",
   "name": "python3"
  },
  "language_info": {
   "codemirror_mode": {
    "name": "ipython",
    "version": 3
   },
   "file_extension": ".py",
   "mimetype": "text/x-python",
   "name": "python",
   "nbconvert_exporter": "python",
   "pygments_lexer": "ipython3",
   "version": "3.12.7"
  }
 },
 "nbformat": 4,
 "nbformat_minor": 5
}
